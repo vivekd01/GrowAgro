{
 "cells": [
  {
   "cell_type": "code",
   "execution_count": 1,
   "id": "ee8fe110",
   "metadata": {},
   "outputs": [],
   "source": [
    "import pandas as pd,os\n",
    "import seaborn as sns\n",
    "import matplotlib.pyplot as plt \n",
    "import numpy as np\n",
    "import warnings\n",
    "warnings.filterwarnings('ignore')"
   ]
  },
  {
   "cell_type": "code",
   "execution_count": 2,
   "id": "857b0e9c",
   "metadata": {},
   "outputs": [
    {
     "name": "stdout",
     "output_type": "stream",
     "text": [
      "['.ipynb_checkpoints', 'India Agriculture Crop Production.csv', 'Untitled.ipynb']\n"
     ]
    }
   ],
   "source": [
    "print(os.listdir())"
   ]
  },
  {
   "cell_type": "code",
   "execution_count": 5,
   "id": "4a6956ff",
   "metadata": {},
   "outputs": [],
   "source": [
    "# loading dataset\n",
    "\n",
    "crop_df=pd.read_csv('India Agriculture Crop Production.csv')"
   ]
  },
  {
   "cell_type": "code",
   "execution_count": 6,
   "id": "88de4d2d",
   "metadata": {},
   "outputs": [
    {
     "data": {
      "text/html": [
       "<div>\n",
       "<style scoped>\n",
       "    .dataframe tbody tr th:only-of-type {\n",
       "        vertical-align: middle;\n",
       "    }\n",
       "\n",
       "    .dataframe tbody tr th {\n",
       "        vertical-align: top;\n",
       "    }\n",
       "\n",
       "    .dataframe thead th {\n",
       "        text-align: right;\n",
       "    }\n",
       "</style>\n",
       "<table border=\"1\" class=\"dataframe\">\n",
       "  <thead>\n",
       "    <tr style=\"text-align: right;\">\n",
       "      <th></th>\n",
       "      <th>State</th>\n",
       "      <th>District</th>\n",
       "      <th>Crop</th>\n",
       "      <th>Year</th>\n",
       "      <th>Season</th>\n",
       "      <th>Area</th>\n",
       "      <th>Area Units</th>\n",
       "      <th>Production</th>\n",
       "      <th>Production Units</th>\n",
       "      <th>Yield</th>\n",
       "    </tr>\n",
       "  </thead>\n",
       "  <tbody>\n",
       "    <tr>\n",
       "      <th>0</th>\n",
       "      <td>Andaman and Nicobar Islands</td>\n",
       "      <td>NICOBARS</td>\n",
       "      <td>Arecanut</td>\n",
       "      <td>2001-02</td>\n",
       "      <td>Kharif</td>\n",
       "      <td>1254.0</td>\n",
       "      <td>Hectare</td>\n",
       "      <td>2061.0</td>\n",
       "      <td>Tonnes</td>\n",
       "      <td>1.643541</td>\n",
       "    </tr>\n",
       "    <tr>\n",
       "      <th>1</th>\n",
       "      <td>Andaman and Nicobar Islands</td>\n",
       "      <td>NICOBARS</td>\n",
       "      <td>Arecanut</td>\n",
       "      <td>2002-03</td>\n",
       "      <td>Whole Year</td>\n",
       "      <td>1258.0</td>\n",
       "      <td>Hectare</td>\n",
       "      <td>2083.0</td>\n",
       "      <td>Tonnes</td>\n",
       "      <td>1.655803</td>\n",
       "    </tr>\n",
       "    <tr>\n",
       "      <th>2</th>\n",
       "      <td>Andaman and Nicobar Islands</td>\n",
       "      <td>NICOBARS</td>\n",
       "      <td>Arecanut</td>\n",
       "      <td>2003-04</td>\n",
       "      <td>Whole Year</td>\n",
       "      <td>1261.0</td>\n",
       "      <td>Hectare</td>\n",
       "      <td>1525.0</td>\n",
       "      <td>Tonnes</td>\n",
       "      <td>1.209358</td>\n",
       "    </tr>\n",
       "    <tr>\n",
       "      <th>3</th>\n",
       "      <td>Andaman and Nicobar Islands</td>\n",
       "      <td>NORTH AND MIDDLE ANDAMAN</td>\n",
       "      <td>Arecanut</td>\n",
       "      <td>2001-02</td>\n",
       "      <td>Kharif</td>\n",
       "      <td>3100.0</td>\n",
       "      <td>Hectare</td>\n",
       "      <td>5239.0</td>\n",
       "      <td>Tonnes</td>\n",
       "      <td>1.690000</td>\n",
       "    </tr>\n",
       "    <tr>\n",
       "      <th>4</th>\n",
       "      <td>Andaman and Nicobar Islands</td>\n",
       "      <td>SOUTH ANDAMANS</td>\n",
       "      <td>Arecanut</td>\n",
       "      <td>2002-03</td>\n",
       "      <td>Whole Year</td>\n",
       "      <td>3105.0</td>\n",
       "      <td>Hectare</td>\n",
       "      <td>5267.0</td>\n",
       "      <td>Tonnes</td>\n",
       "      <td>1.696296</td>\n",
       "    </tr>\n",
       "  </tbody>\n",
       "</table>\n",
       "</div>"
      ],
      "text/plain": [
       "                         State                  District      Crop     Year  \\\n",
       "0  Andaman and Nicobar Islands                  NICOBARS  Arecanut  2001-02   \n",
       "1  Andaman and Nicobar Islands                  NICOBARS  Arecanut  2002-03   \n",
       "2  Andaman and Nicobar Islands                  NICOBARS  Arecanut  2003-04   \n",
       "3  Andaman and Nicobar Islands  NORTH AND MIDDLE ANDAMAN  Arecanut  2001-02   \n",
       "4  Andaman and Nicobar Islands            SOUTH ANDAMANS  Arecanut  2002-03   \n",
       "\n",
       "       Season    Area Area Units  Production Production Units     Yield  \n",
       "0      Kharif  1254.0    Hectare      2061.0           Tonnes  1.643541  \n",
       "1  Whole Year  1258.0    Hectare      2083.0           Tonnes  1.655803  \n",
       "2  Whole Year  1261.0    Hectare      1525.0           Tonnes  1.209358  \n",
       "3      Kharif  3100.0    Hectare      5239.0           Tonnes  1.690000  \n",
       "4  Whole Year  3105.0    Hectare      5267.0           Tonnes  1.696296  "
      ]
     },
     "execution_count": 6,
     "metadata": {},
     "output_type": "execute_result"
    }
   ],
   "source": [
    "crop_df.head()"
   ]
  },
  {
   "cell_type": "code",
   "execution_count": 7,
   "id": "ffffe525",
   "metadata": {},
   "outputs": [
    {
     "data": {
      "text/plain": [
       "State                  0\n",
       "District               0\n",
       "Crop                  32\n",
       "Year                   0\n",
       "Season                 1\n",
       "Area                  33\n",
       "Area Units             0\n",
       "Production          4993\n",
       "Production Units       0\n",
       "Yield                 33\n",
       "dtype: int64"
      ]
     },
     "execution_count": 7,
     "metadata": {},
     "output_type": "execute_result"
    }
   ],
   "source": [
    "# checking null values count from dataset\n",
    "\n",
    "crop_df.isnull().sum()"
   ]
  },
  {
   "cell_type": "code",
   "execution_count": 8,
   "id": "8405d02b",
   "metadata": {},
   "outputs": [],
   "source": [
    "# we have approx 243000 rows and out of that 3730 were null (1.53%) so we decided to drop these rows for better analysis\n",
    "crop_df.dropna(inplace=True) "
   ]
  },
  {
   "cell_type": "code",
   "execution_count": 9,
   "id": "1e3c79db",
   "metadata": {},
   "outputs": [
    {
     "data": {
      "text/plain": [
       "State               0\n",
       "District            0\n",
       "Crop                0\n",
       "Year                0\n",
       "Season              0\n",
       "Area                0\n",
       "Area Units          0\n",
       "Production          0\n",
       "Production Units    0\n",
       "Yield               0\n",
       "dtype: int64"
      ]
     },
     "execution_count": 9,
     "metadata": {},
     "output_type": "execute_result"
    }
   ],
   "source": [
    "# after droping null values there is no null value in dataset\n",
    "crop_df.isnull().sum()"
   ]
  },
  {
   "cell_type": "code",
   "execution_count": 10,
   "id": "e1c1f788",
   "metadata": {},
   "outputs": [
    {
     "data": {
      "text/plain": [
       "array(['Kharif', 'Whole Year', 'Rabi', 'Autumn', 'Summer', 'Winter'],\n",
       "      dtype=object)"
      ]
     },
     "execution_count": 10,
     "metadata": {},
     "output_type": "execute_result"
    }
   ],
   "source": [
    "# checking unique type of season\n",
    "crop_df.Season.unique()"
   ]
  },
  {
   "cell_type": "code",
   "execution_count": 11,
   "id": "a4bdf499",
   "metadata": {},
   "outputs": [],
   "source": [
    "# here we remove unwanted white spaces from season column \n",
    "\n",
    "crop_df['Season'] = crop_df['Season'].apply(lambda x: x.strip())\n",
    "crop_df['Crop'] = crop_df['Crop'].apply(lambda x: x.strip())\n",
    "crop_df['State'] = crop_df['State'].apply(lambda x: x.strip())"
   ]
  },
  {
   "cell_type": "code",
   "execution_count": 12,
   "id": "e3d8ea95",
   "metadata": {},
   "outputs": [
    {
     "data": {
      "text/plain": [
       "array(['Kharif', 'Whole Year', 'Rabi', 'Autumn', 'Summer', 'Winter'],\n",
       "      dtype=object)"
      ]
     },
     "execution_count": 12,
     "metadata": {},
     "output_type": "execute_result"
    }
   ],
   "source": [
    "# after removing white spaces\n",
    "\n",
    "crop_df.Season.unique()"
   ]
  },
  {
   "cell_type": "code",
   "execution_count": 13,
   "id": "f8213443",
   "metadata": {},
   "outputs": [
    {
     "data": {
      "text/plain": [
       "Kharif        136165\n",
       "Rabi           99805\n",
       "Whole Year     67265\n",
       "Summer         21974\n",
       "Winter          8238\n",
       "Autumn          6967\n",
       "Name: Season, dtype: int64"
      ]
     },
     "execution_count": 13,
     "metadata": {},
     "output_type": "execute_result"
    }
   ],
   "source": [
    "# checking the values counts of each season\n",
    "\n",
    "crop_df['Season'].value_counts()"
   ]
  },
  {
   "cell_type": "code",
   "execution_count": 14,
   "id": "3590215c",
   "metadata": {},
   "outputs": [],
   "source": [
    "'''since there are Three types of crop out of which two are mainly seasonal Rabi and Kharif and one is for whole year but\n",
    " 5 crops season were present in our datset.we got to know that summer and Autumn synonyms of Kharif and winter is synonyms of\n",
    " of Rabi so we decided to replace with their original name which is Kharif Rabi'''\n",
    "\n",
    "crop_df['Season']=crop_df['Season'].apply(lambda x : x.replace('Autumn','Kharif'))\n",
    "crop_df['Season']=crop_df['Season'].apply(lambda x : x.replace('Summer','Kharif'))\n",
    "crop_df['Season']=crop_df['Season'].apply(lambda x : x.replace('Winter','Rabi'))"
   ]
  },
  {
   "cell_type": "code",
   "execution_count": 15,
   "id": "3bc29191",
   "metadata": {},
   "outputs": [
    {
     "data": {
      "text/plain": [
       "Kharif        165106\n",
       "Rabi          108043\n",
       "Whole Year     67265\n",
       "Name: Season, dtype: int64"
      ]
     },
     "execution_count": 15,
     "metadata": {},
     "output_type": "execute_result"
    }
   ],
   "source": [
    "#Checking values counts of season after replacing wiyh their original name\n",
    "\n",
    "crop_df['Season'].value_counts()"
   ]
  },
  {
   "cell_type": "code",
   "execution_count": 16,
   "id": "9d00ed5a",
   "metadata": {},
   "outputs": [
    {
     "name": "stdout",
     "output_type": "stream",
     "text": [
      "After removing the row which has 0 Production : 339390\n"
     ]
    }
   ],
   "source": [
    "# we have observed that many values of producation were 0 since it is represntating producation of whole district\n",
    "# so we decided drop all rows whose producation values are zero\n",
    "\n",
    "crop_df.drop(crop_df[crop_df['Production']==0].index,inplace=True)\n",
    "\n",
    "print(f'After removing the row which has 0 Production : {crop_df.shape[0]}')"
   ]
  },
  {
   "cell_type": "code",
   "execution_count": 17,
   "id": "cca5192e",
   "metadata": {},
   "outputs": [
    {
     "data": {
      "text/plain": [
       "array(['Arecanut', 'Banana', 'Black pepper', 'Cashewnut', 'Coconut',\n",
       "       'Dry chillies', 'Ginger', 'Other Kharif pulses', 'other oilseeds',\n",
       "       'Rice', 'Sugarcane', 'Sweet potato', 'Arhar/Tur', 'Bajra',\n",
       "       'Castor seed', 'Coriander', 'Cotton(lint)', 'Gram', 'Groundnut',\n",
       "       'Horse-gram', 'Jowar', 'Linseed', 'Maize', 'Mesta',\n",
       "       'Moong(Green Gram)', 'Niger seed', 'Onion', 'Other Rabi pulses',\n",
       "       'Potato', 'Ragi', 'Rapeseed &Mustard', 'Safflower', 'Sesamum',\n",
       "       'Small millets', 'Soyabean', 'Sunflower', 'Tapioca', 'Tobacco',\n",
       "       'Turmeric', 'Urad', 'Wheat', 'Oilseeds total', 'Jute', 'Masoor',\n",
       "       'Peas & beans (Pulses)', 'Barley', 'Garlic', 'Khesari', 'Sannhamp',\n",
       "       'Guar seed', 'Moth', 'Cardamom', 'Other Cereals', 'Cowpea(Lobia)',\n",
       "       'Dry Ginger', 'Other Summer Pulses'], dtype=object)"
      ]
     },
     "execution_count": 17,
     "metadata": {},
     "output_type": "execute_result"
    }
   ],
   "source": [
    "# checking unique crops names \n",
    "# we observed that many crops were presenyed with their syononame so we decided all syononyms of crops to replace with their popular name\n",
    "# like paddy and rice are same so we replace paddy with Rice\n",
    "# also number of rows of crops sub-category were very less\n",
    "\n",
    "crop_df.Crop.unique()"
   ]
  },
  {
   "cell_type": "code",
   "execution_count": 18,
   "id": "533fac1c",
   "metadata": {},
   "outputs": [],
   "source": [
    "# we have replaced  kapas to cotton etc.\n",
    "\n",
    "crop_df['Crop']=crop_df['Crop'].apply(lambda x:x.replace('Kapas','Cotton(lint)')\n",
    "                                      .replace('Cotton(lint)','Cotton'))\n",
    "\n",
    "crop_df.replace('Jute & mesta','Jute',inplace=True)\n",
    "crop_df.replace('Mesta','Jute',inplace=True)"
   ]
  },
  {
   "cell_type": "code",
   "execution_count": 19,
   "id": "bcf2b2d3",
   "metadata": {},
   "outputs": [],
   "source": [
    "# we have replace sub-category of pulses with pulse\n",
    "\n",
    "crop_df['Crop']=crop_df['Crop'].apply(lambda x:x.replace('Other Kharif pulses','pulses')\n",
    "                                    .replace('Other  Rabi pulses','pulses')\n",
    "                                    .replace('Peas & beans (Pulses)','pulses')\n",
    "                                    .replace('Pulses total','pulses')\n",
    "                                    .replace('other misc. pulses','pulses')\n",
    "                                    .replace('Moong(Green Gram)','pulses')\n",
    "                                    .replace('Urad','pulses')\n",
    "                                    .replace('Arhar/Tur','pulses')\n",
    "                                    .replace('Bean','pulses')\n",
    "                                    .replace('Ricebean (nagadal)','pulses')\n",
    "                                    .replace('Lentil','pulses')\n",
    "                                    .replace('Masoor','pulses')\n",
    "                                    .replace('Khesari','pulses')\n",
    "                                    .replace('Horse-gram','pulses')\n",
    "                                    .replace('Rajmash Kholar','pulses'))"
   ]
  },
  {
   "cell_type": "code",
   "execution_count": 20,
   "id": "84b23fa5",
   "metadata": {},
   "outputs": [],
   "source": [
    "#we have corrected spelling mistake\n",
    "\n",
    "crop_df['Crop']=crop_df['Crop'].apply(lambda x:x\n",
    "                                    .replace('Atcanut (Raw)','Arecanut')\n",
    "                                    .replace('Arcanut (Processed)','Arecanut')\n",
    "                                    .replace('Arecanut','Arecanut'))"
   ]
  },
  {
   "cell_type": "code",
   "execution_count": 21,
   "id": "fc754580",
   "metadata": {},
   "outputs": [],
   "source": [
    "# we have replaced varienty of spices with othe spices\n",
    "\n",
    "crop_df['Crop']=crop_df['Crop'].apply(lambda x:x\n",
    "                                    .replace('Black pepper','Other Spices')\n",
    "                                    .replace('Cardamom','Other Spices')\n",
    "                                    .replace('Perilla','Other Spices'))"
   ]
  },
  {
   "cell_type": "code",
   "execution_count": 22,
   "id": "e3332bf9",
   "metadata": {},
   "outputs": [],
   "source": [
    "#since number of rows for every fruits category were very less so we decided to megre all to fruits\n",
    "\n",
    "crop_df['Crop']=crop_df['Crop'].apply(lambda x:x\n",
    "                                    .replace('Papaya','Fruits')\n",
    "                                    .replace('Mango','Fruits')\n",
    "                                     .replace('Orange','Fruits')\n",
    "                                     .replace('Other Fresh Fruits','Fruits')\n",
    "                                     .replace('Pineapple','Fruits')\n",
    "                                     .replace('Citrus Fruit','Fruits')\n",
    "                                     .replace('Pome Fruit','Fruits')\n",
    "                                     .replace('Pome Granet','Fruits')\n",
    "                                     .replace('Grapes','Fruits')\n",
    "                                     .replace('Jack Fruit','Fruits')\n",
    "                                     .replace('Sapota','Fruits')\n",
    "                                     .replace('Lemon','Fruits'))"
   ]
  },
  {
   "cell_type": "code",
   "execution_count": 23,
   "id": "1c8527f5",
   "metadata": {},
   "outputs": [],
   "source": [
    "# we have replace sub-category with their main-category \n",
    "\n",
    "crop_df['Crop']=crop_df['Crop'].apply(lambda x:x\n",
    "                                    .replace('Ginger','Dry ginger'))\n",
    "\n",
    "crop_df['Crop']=crop_df['Crop'].apply(lambda x:x\n",
    "                                    .replace('Turnip','Onion'))\n",
    "\n",
    "crop_df['Crop']=crop_df['Crop'].apply(lambda x:x\n",
    "                                      .replace('Cashewnut Raw','Cashewnut')\n",
    "                                      .replace('Cashewnut Processed','Cashewnut'))"
   ]
  },
  {
   "cell_type": "code",
   "execution_count": 24,
   "id": "0f26e4e4",
   "metadata": {},
   "outputs": [],
   "source": [
    "# we have replace sub-category of gram with their main-category \n",
    "\n",
    "crop_df['Crop']=crop_df['Crop'].apply(lambda x:x\n",
    "                                      .replace('black gram','gram')\n",
    "                                     .replace('Moth','gram')\n",
    "                                     .replace('Blackgram','gram'))"
   ]
  },
  {
   "cell_type": "code",
   "execution_count": 25,
   "id": "e5979e16",
   "metadata": {},
   "outputs": [],
   "source": [
    "# we have replace other Oilseeds total to  other oilseeds\n",
    "\n",
    "crop_df['Crop']=crop_df['Crop'].apply(lambda x:x\n",
    "                                      .replace('Oilseeds total' ,'other oilseeds')\n",
    "                                      .replace('Niger seed' ,'other oilseeds'))"
   ]
  },
  {
   "cell_type": "code",
   "execution_count": 26,
   "id": "b5f21bc2",
   "metadata": {},
   "outputs": [],
   "source": [
    "# we have replace sub-category of milltes with their main-category \n",
    "\n",
    "crop_df['Crop']=crop_df['Crop'].apply(lambda x:x\n",
    "                                      .replace('Other Cereals & Millets' ,'Bajra')\n",
    "                                      .replace('Samai' ,'Bajra')\n",
    "                                      .replace('Small millets' ,'Bajra')\n",
    "                                      .replace('Ragi','Bajra')\n",
    "                                      .replace('Varagu','Bajra')\n",
    "                                      .replace('Jobster','Bajra'))"
   ]
  },
  {
   "cell_type": "code",
   "execution_count": 27,
   "id": "094d1bc9",
   "metadata": {},
   "outputs": [],
   "source": [
    "# we have replace sub-category of Vegetables with their main-category \n",
    "\n",
    "crop_df['Crop']=crop_df['Crop'].apply(lambda x:x\n",
    "                                     .replace('Coriander' ,'Other Vegetables')\n",
    "                                     .replace('pulsess & Mutter(Vegetable)' ,'Other Vegetables')\n",
    "                                     .replace('Bhindi' ,'Other Vegetables')\n",
    "                                     .replace('Tomato','Other Vegetables')\n",
    "                                     .replace('Cowpea(Lobia)','Other Vegetables')\n",
    "                                     .replace('Cabbage','Other Vegetables')\n",
    "                                     .replace('Carrot','Other Vegetables')\n",
    "                                     .replace('Drum Stick','Other Vegetables')\n",
    "                                     .replace('Redish','Other Vegetables')\n",
    "                                     .replace('Cauliflower','Other Vegetables')\n",
    "                                     .replace('Colocosia','Other Vegetables')\n",
    "                                     .replace('Brinjal','Other Vegetables')\n",
    "                                     .replace('Bottle Gourd','Other Vegetables')\n",
    "                                     .replace('Bitter Gourd','Other Vegetables'))"
   ]
  },
  {
   "cell_type": "code",
   "execution_count": 28,
   "id": "158cc0d2",
   "metadata": {},
   "outputs": [],
   "source": [
    "#we have replace sub-category with their main-category\n",
    "\n",
    "crop_df['Crop']=crop_df['Crop'].apply(lambda x:x.replace('Niger seed','Sesamum'))\n",
    "crop_df['Crop']=crop_df['Crop'].apply(lambda x:x.replace('Korra','Total foodgrain'))\n",
    "crop_df['Crop']=crop_df['Crop'].apply(lambda x:x.replace('Paddy','Rice'))"
   ]
  },
  {
   "cell_type": "code",
   "execution_count": 29,
   "id": "c8a868a0",
   "metadata": {},
   "outputs": [],
   "source": [
    "#we have observed some cropes rows are very very less so it wont make any sense to visualization so we decided to drop those rows\n",
    "\n",
    "crop_df.drop(crop_df[crop_df['Crop']=='Tea'].index,inplace=True)\n",
    "crop_df.drop(crop_df[crop_df['Crop']=='Coffee'].index,inplace=True)\n",
    "crop_df.drop(crop_df[crop_df['Crop']=='Rubber'].index,inplace=True)\n",
    "crop_df.drop(crop_df[crop_df['Crop']=='Cond-spcs other'].index,inplace=True)"
   ]
  },
  {
   "cell_type": "code",
   "execution_count": 30,
   "id": "de53cb52",
   "metadata": {},
   "outputs": [
    {
     "data": {
      "text/plain": [
       "array(['Arecanut', 'Banana', 'Other Spices', 'Cashewnut', 'Coconut',\n",
       "       'Dry chillies', 'Dry ginger', 'pulses', 'other oilseeds', 'Rice',\n",
       "       'Sugarcane', 'Sweet potato', 'Bajra', 'Castor seed',\n",
       "       'Other Vegetables', 'Cotton', 'Gram', 'Groundnut', 'Jowar',\n",
       "       'Linseed', 'Maize', 'Jute', 'Onion', 'Other Rabi pulses', 'Potato',\n",
       "       'Rapeseed &Mustard', 'Safflower', 'Sesamum', 'Soyabean',\n",
       "       'Sunflower', 'Tapioca', 'Tobacco', 'Turmeric', 'Wheat', 'Barley',\n",
       "       'Garlic', 'Sannhamp', 'Guar seed', 'gram', 'Other Cereals',\n",
       "       'Dry Dry ginger', 'Other Summer Pulses'], dtype=object)"
      ]
     },
     "execution_count": 30,
     "metadata": {},
     "output_type": "execute_result"
    }
   ],
   "source": [
    "# checking unique crops types after replacement\n",
    "\n",
    "crop_df.Crop.unique()"
   ]
  },
  {
   "cell_type": "code",
   "execution_count": 31,
   "id": "634ae5d8",
   "metadata": {},
   "outputs": [],
   "source": [
    "# saving cleaned data file\n",
    "\n",
    "crop_df.to_csv('India Agriculture Crop Production.csv')"
   ]
  },
  {
   "cell_type": "code",
   "execution_count": 32,
   "id": "b2ba4ad0",
   "metadata": {},
   "outputs": [
    {
     "data": {
      "text/html": [
       "<div>\n",
       "<style scoped>\n",
       "    .dataframe tbody tr th:only-of-type {\n",
       "        vertical-align: middle;\n",
       "    }\n",
       "\n",
       "    .dataframe tbody tr th {\n",
       "        vertical-align: top;\n",
       "    }\n",
       "\n",
       "    .dataframe thead th {\n",
       "        text-align: right;\n",
       "    }\n",
       "</style>\n",
       "<table border=\"1\" class=\"dataframe\">\n",
       "  <thead>\n",
       "    <tr style=\"text-align: right;\">\n",
       "      <th></th>\n",
       "      <th>State</th>\n",
       "      <th>District</th>\n",
       "      <th>Crop</th>\n",
       "      <th>Year</th>\n",
       "      <th>Season</th>\n",
       "      <th>Area</th>\n",
       "      <th>Area Units</th>\n",
       "      <th>Production</th>\n",
       "      <th>Production Units</th>\n",
       "      <th>Yield</th>\n",
       "    </tr>\n",
       "  </thead>\n",
       "  <tbody>\n",
       "    <tr>\n",
       "      <th>0</th>\n",
       "      <td>Andaman and Nicobar Islands</td>\n",
       "      <td>NICOBARS</td>\n",
       "      <td>Arecanut</td>\n",
       "      <td>2001-02</td>\n",
       "      <td>Kharif</td>\n",
       "      <td>1254.0</td>\n",
       "      <td>Hectare</td>\n",
       "      <td>2061.0</td>\n",
       "      <td>Tonnes</td>\n",
       "      <td>1.643541</td>\n",
       "    </tr>\n",
       "    <tr>\n",
       "      <th>1</th>\n",
       "      <td>Andaman and Nicobar Islands</td>\n",
       "      <td>NICOBARS</td>\n",
       "      <td>Arecanut</td>\n",
       "      <td>2002-03</td>\n",
       "      <td>Whole Year</td>\n",
       "      <td>1258.0</td>\n",
       "      <td>Hectare</td>\n",
       "      <td>2083.0</td>\n",
       "      <td>Tonnes</td>\n",
       "      <td>1.655803</td>\n",
       "    </tr>\n",
       "    <tr>\n",
       "      <th>2</th>\n",
       "      <td>Andaman and Nicobar Islands</td>\n",
       "      <td>NICOBARS</td>\n",
       "      <td>Arecanut</td>\n",
       "      <td>2003-04</td>\n",
       "      <td>Whole Year</td>\n",
       "      <td>1261.0</td>\n",
       "      <td>Hectare</td>\n",
       "      <td>1525.0</td>\n",
       "      <td>Tonnes</td>\n",
       "      <td>1.209358</td>\n",
       "    </tr>\n",
       "    <tr>\n",
       "      <th>3</th>\n",
       "      <td>Andaman and Nicobar Islands</td>\n",
       "      <td>NORTH AND MIDDLE ANDAMAN</td>\n",
       "      <td>Arecanut</td>\n",
       "      <td>2001-02</td>\n",
       "      <td>Kharif</td>\n",
       "      <td>3100.0</td>\n",
       "      <td>Hectare</td>\n",
       "      <td>5239.0</td>\n",
       "      <td>Tonnes</td>\n",
       "      <td>1.690000</td>\n",
       "    </tr>\n",
       "    <tr>\n",
       "      <th>4</th>\n",
       "      <td>Andaman and Nicobar Islands</td>\n",
       "      <td>SOUTH ANDAMANS</td>\n",
       "      <td>Arecanut</td>\n",
       "      <td>2002-03</td>\n",
       "      <td>Whole Year</td>\n",
       "      <td>3105.0</td>\n",
       "      <td>Hectare</td>\n",
       "      <td>5267.0</td>\n",
       "      <td>Tonnes</td>\n",
       "      <td>1.696296</td>\n",
       "    </tr>\n",
       "    <tr>\n",
       "      <th>...</th>\n",
       "      <td>...</td>\n",
       "      <td>...</td>\n",
       "      <td>...</td>\n",
       "      <td>...</td>\n",
       "      <td>...</td>\n",
       "      <td>...</td>\n",
       "      <td>...</td>\n",
       "      <td>...</td>\n",
       "      <td>...</td>\n",
       "      <td>...</td>\n",
       "    </tr>\n",
       "    <tr>\n",
       "      <th>345370</th>\n",
       "      <td>West Bengal</td>\n",
       "      <td>PURBA BARDHAMAN</td>\n",
       "      <td>Wheat</td>\n",
       "      <td>2000-01</td>\n",
       "      <td>Rabi</td>\n",
       "      <td>6310.0</td>\n",
       "      <td>Hectare</td>\n",
       "      <td>15280.0</td>\n",
       "      <td>Tonnes</td>\n",
       "      <td>2.421553</td>\n",
       "    </tr>\n",
       "    <tr>\n",
       "      <th>345371</th>\n",
       "      <td>West Bengal</td>\n",
       "      <td>PURULIA</td>\n",
       "      <td>Wheat</td>\n",
       "      <td>1997-98</td>\n",
       "      <td>Rabi</td>\n",
       "      <td>1895.0</td>\n",
       "      <td>Hectare</td>\n",
       "      <td>2760.0</td>\n",
       "      <td>Tonnes</td>\n",
       "      <td>1.456464</td>\n",
       "    </tr>\n",
       "    <tr>\n",
       "      <th>345372</th>\n",
       "      <td>West Bengal</td>\n",
       "      <td>PURULIA</td>\n",
       "      <td>Wheat</td>\n",
       "      <td>1998-99</td>\n",
       "      <td>Rabi</td>\n",
       "      <td>3736.0</td>\n",
       "      <td>Hectare</td>\n",
       "      <td>5530.0</td>\n",
       "      <td>Tonnes</td>\n",
       "      <td>1.480193</td>\n",
       "    </tr>\n",
       "    <tr>\n",
       "      <th>345373</th>\n",
       "      <td>West Bengal</td>\n",
       "      <td>PURULIA</td>\n",
       "      <td>Wheat</td>\n",
       "      <td>1999-00</td>\n",
       "      <td>Rabi</td>\n",
       "      <td>2752.0</td>\n",
       "      <td>Hectare</td>\n",
       "      <td>6928.0</td>\n",
       "      <td>Tonnes</td>\n",
       "      <td>2.517442</td>\n",
       "    </tr>\n",
       "    <tr>\n",
       "      <th>345374</th>\n",
       "      <td>West Bengal</td>\n",
       "      <td>PURULIA</td>\n",
       "      <td>Wheat</td>\n",
       "      <td>2000-01</td>\n",
       "      <td>Rabi</td>\n",
       "      <td>2979.0</td>\n",
       "      <td>Hectare</td>\n",
       "      <td>7430.0</td>\n",
       "      <td>Tonnes</td>\n",
       "      <td>2.494126</td>\n",
       "    </tr>\n",
       "  </tbody>\n",
       "</table>\n",
       "<p>339390 rows × 10 columns</p>\n",
       "</div>"
      ],
      "text/plain": [
       "                              State                  District      Crop  \\\n",
       "0       Andaman and Nicobar Islands                  NICOBARS  Arecanut   \n",
       "1       Andaman and Nicobar Islands                  NICOBARS  Arecanut   \n",
       "2       Andaman and Nicobar Islands                  NICOBARS  Arecanut   \n",
       "3       Andaman and Nicobar Islands  NORTH AND MIDDLE ANDAMAN  Arecanut   \n",
       "4       Andaman and Nicobar Islands            SOUTH ANDAMANS  Arecanut   \n",
       "...                             ...                       ...       ...   \n",
       "345370                  West Bengal           PURBA BARDHAMAN     Wheat   \n",
       "345371                  West Bengal                   PURULIA     Wheat   \n",
       "345372                  West Bengal                   PURULIA     Wheat   \n",
       "345373                  West Bengal                   PURULIA     Wheat   \n",
       "345374                  West Bengal                   PURULIA     Wheat   \n",
       "\n",
       "           Year      Season    Area Area Units  Production Production Units  \\\n",
       "0       2001-02      Kharif  1254.0    Hectare      2061.0           Tonnes   \n",
       "1       2002-03  Whole Year  1258.0    Hectare      2083.0           Tonnes   \n",
       "2       2003-04  Whole Year  1261.0    Hectare      1525.0           Tonnes   \n",
       "3       2001-02      Kharif  3100.0    Hectare      5239.0           Tonnes   \n",
       "4       2002-03  Whole Year  3105.0    Hectare      5267.0           Tonnes   \n",
       "...         ...         ...     ...        ...         ...              ...   \n",
       "345370  2000-01        Rabi  6310.0    Hectare     15280.0           Tonnes   \n",
       "345371  1997-98        Rabi  1895.0    Hectare      2760.0           Tonnes   \n",
       "345372  1998-99        Rabi  3736.0    Hectare      5530.0           Tonnes   \n",
       "345373  1999-00        Rabi  2752.0    Hectare      6928.0           Tonnes   \n",
       "345374  2000-01        Rabi  2979.0    Hectare      7430.0           Tonnes   \n",
       "\n",
       "           Yield  \n",
       "0       1.643541  \n",
       "1       1.655803  \n",
       "2       1.209358  \n",
       "3       1.690000  \n",
       "4       1.696296  \n",
       "...          ...  \n",
       "345370  2.421553  \n",
       "345371  1.456464  \n",
       "345372  1.480193  \n",
       "345373  2.517442  \n",
       "345374  2.494126  \n",
       "\n",
       "[339390 rows x 10 columns]"
      ]
     },
     "execution_count": 32,
     "metadata": {},
     "output_type": "execute_result"
    }
   ],
   "source": [
    "crop_df"
   ]
  },
  {
   "cell_type": "code",
   "execution_count": 33,
   "id": "759dddeb",
   "metadata": {},
   "outputs": [],
   "source": [
    "# to find outlier we created new column Producation_area_factor\n",
    "\n",
    "crop_df['Producation_area_factor']= crop_df['Production'] / crop_df['Area']"
   ]
  },
  {
   "cell_type": "code",
   "execution_count": 34,
   "id": "a53d964e",
   "metadata": {},
   "outputs": [
    {
     "data": {
      "text/html": [
       "<div>\n",
       "<style scoped>\n",
       "    .dataframe tbody tr th:only-of-type {\n",
       "        vertical-align: middle;\n",
       "    }\n",
       "\n",
       "    .dataframe tbody tr th {\n",
       "        vertical-align: top;\n",
       "    }\n",
       "\n",
       "    .dataframe thead th {\n",
       "        text-align: right;\n",
       "    }\n",
       "</style>\n",
       "<table border=\"1\" class=\"dataframe\">\n",
       "  <thead>\n",
       "    <tr style=\"text-align: right;\">\n",
       "      <th></th>\n",
       "      <th>State</th>\n",
       "      <th>District</th>\n",
       "      <th>Crop</th>\n",
       "      <th>Year</th>\n",
       "      <th>Season</th>\n",
       "      <th>Area</th>\n",
       "      <th>Area Units</th>\n",
       "      <th>Production</th>\n",
       "      <th>Production Units</th>\n",
       "      <th>Yield</th>\n",
       "      <th>Producation_area_factor</th>\n",
       "    </tr>\n",
       "  </thead>\n",
       "  <tbody>\n",
       "    <tr>\n",
       "      <th>0</th>\n",
       "      <td>Andaman and Nicobar Islands</td>\n",
       "      <td>NICOBARS</td>\n",
       "      <td>Arecanut</td>\n",
       "      <td>2001-02</td>\n",
       "      <td>Kharif</td>\n",
       "      <td>1254.0</td>\n",
       "      <td>Hectare</td>\n",
       "      <td>2061.0</td>\n",
       "      <td>Tonnes</td>\n",
       "      <td>1.643541</td>\n",
       "      <td>1.643541</td>\n",
       "    </tr>\n",
       "    <tr>\n",
       "      <th>1</th>\n",
       "      <td>Andaman and Nicobar Islands</td>\n",
       "      <td>NICOBARS</td>\n",
       "      <td>Arecanut</td>\n",
       "      <td>2002-03</td>\n",
       "      <td>Whole Year</td>\n",
       "      <td>1258.0</td>\n",
       "      <td>Hectare</td>\n",
       "      <td>2083.0</td>\n",
       "      <td>Tonnes</td>\n",
       "      <td>1.655803</td>\n",
       "      <td>1.655803</td>\n",
       "    </tr>\n",
       "    <tr>\n",
       "      <th>2</th>\n",
       "      <td>Andaman and Nicobar Islands</td>\n",
       "      <td>NICOBARS</td>\n",
       "      <td>Arecanut</td>\n",
       "      <td>2003-04</td>\n",
       "      <td>Whole Year</td>\n",
       "      <td>1261.0</td>\n",
       "      <td>Hectare</td>\n",
       "      <td>1525.0</td>\n",
       "      <td>Tonnes</td>\n",
       "      <td>1.209358</td>\n",
       "      <td>1.209358</td>\n",
       "    </tr>\n",
       "    <tr>\n",
       "      <th>3</th>\n",
       "      <td>Andaman and Nicobar Islands</td>\n",
       "      <td>NORTH AND MIDDLE ANDAMAN</td>\n",
       "      <td>Arecanut</td>\n",
       "      <td>2001-02</td>\n",
       "      <td>Kharif</td>\n",
       "      <td>3100.0</td>\n",
       "      <td>Hectare</td>\n",
       "      <td>5239.0</td>\n",
       "      <td>Tonnes</td>\n",
       "      <td>1.690000</td>\n",
       "      <td>1.690000</td>\n",
       "    </tr>\n",
       "    <tr>\n",
       "      <th>4</th>\n",
       "      <td>Andaman and Nicobar Islands</td>\n",
       "      <td>SOUTH ANDAMANS</td>\n",
       "      <td>Arecanut</td>\n",
       "      <td>2002-03</td>\n",
       "      <td>Whole Year</td>\n",
       "      <td>3105.0</td>\n",
       "      <td>Hectare</td>\n",
       "      <td>5267.0</td>\n",
       "      <td>Tonnes</td>\n",
       "      <td>1.696296</td>\n",
       "      <td>1.696296</td>\n",
       "    </tr>\n",
       "    <tr>\n",
       "      <th>...</th>\n",
       "      <td>...</td>\n",
       "      <td>...</td>\n",
       "      <td>...</td>\n",
       "      <td>...</td>\n",
       "      <td>...</td>\n",
       "      <td>...</td>\n",
       "      <td>...</td>\n",
       "      <td>...</td>\n",
       "      <td>...</td>\n",
       "      <td>...</td>\n",
       "      <td>...</td>\n",
       "    </tr>\n",
       "    <tr>\n",
       "      <th>345370</th>\n",
       "      <td>West Bengal</td>\n",
       "      <td>PURBA BARDHAMAN</td>\n",
       "      <td>Wheat</td>\n",
       "      <td>2000-01</td>\n",
       "      <td>Rabi</td>\n",
       "      <td>6310.0</td>\n",
       "      <td>Hectare</td>\n",
       "      <td>15280.0</td>\n",
       "      <td>Tonnes</td>\n",
       "      <td>2.421553</td>\n",
       "      <td>2.421553</td>\n",
       "    </tr>\n",
       "    <tr>\n",
       "      <th>345371</th>\n",
       "      <td>West Bengal</td>\n",
       "      <td>PURULIA</td>\n",
       "      <td>Wheat</td>\n",
       "      <td>1997-98</td>\n",
       "      <td>Rabi</td>\n",
       "      <td>1895.0</td>\n",
       "      <td>Hectare</td>\n",
       "      <td>2760.0</td>\n",
       "      <td>Tonnes</td>\n",
       "      <td>1.456464</td>\n",
       "      <td>1.456464</td>\n",
       "    </tr>\n",
       "    <tr>\n",
       "      <th>345372</th>\n",
       "      <td>West Bengal</td>\n",
       "      <td>PURULIA</td>\n",
       "      <td>Wheat</td>\n",
       "      <td>1998-99</td>\n",
       "      <td>Rabi</td>\n",
       "      <td>3736.0</td>\n",
       "      <td>Hectare</td>\n",
       "      <td>5530.0</td>\n",
       "      <td>Tonnes</td>\n",
       "      <td>1.480193</td>\n",
       "      <td>1.480193</td>\n",
       "    </tr>\n",
       "    <tr>\n",
       "      <th>345373</th>\n",
       "      <td>West Bengal</td>\n",
       "      <td>PURULIA</td>\n",
       "      <td>Wheat</td>\n",
       "      <td>1999-00</td>\n",
       "      <td>Rabi</td>\n",
       "      <td>2752.0</td>\n",
       "      <td>Hectare</td>\n",
       "      <td>6928.0</td>\n",
       "      <td>Tonnes</td>\n",
       "      <td>2.517442</td>\n",
       "      <td>2.517442</td>\n",
       "    </tr>\n",
       "    <tr>\n",
       "      <th>345374</th>\n",
       "      <td>West Bengal</td>\n",
       "      <td>PURULIA</td>\n",
       "      <td>Wheat</td>\n",
       "      <td>2000-01</td>\n",
       "      <td>Rabi</td>\n",
       "      <td>2979.0</td>\n",
       "      <td>Hectare</td>\n",
       "      <td>7430.0</td>\n",
       "      <td>Tonnes</td>\n",
       "      <td>2.494126</td>\n",
       "      <td>2.494126</td>\n",
       "    </tr>\n",
       "  </tbody>\n",
       "</table>\n",
       "<p>339390 rows × 11 columns</p>\n",
       "</div>"
      ],
      "text/plain": [
       "                              State                  District      Crop  \\\n",
       "0       Andaman and Nicobar Islands                  NICOBARS  Arecanut   \n",
       "1       Andaman and Nicobar Islands                  NICOBARS  Arecanut   \n",
       "2       Andaman and Nicobar Islands                  NICOBARS  Arecanut   \n",
       "3       Andaman and Nicobar Islands  NORTH AND MIDDLE ANDAMAN  Arecanut   \n",
       "4       Andaman and Nicobar Islands            SOUTH ANDAMANS  Arecanut   \n",
       "...                             ...                       ...       ...   \n",
       "345370                  West Bengal           PURBA BARDHAMAN     Wheat   \n",
       "345371                  West Bengal                   PURULIA     Wheat   \n",
       "345372                  West Bengal                   PURULIA     Wheat   \n",
       "345373                  West Bengal                   PURULIA     Wheat   \n",
       "345374                  West Bengal                   PURULIA     Wheat   \n",
       "\n",
       "           Year      Season    Area Area Units  Production Production Units  \\\n",
       "0       2001-02      Kharif  1254.0    Hectare      2061.0           Tonnes   \n",
       "1       2002-03  Whole Year  1258.0    Hectare      2083.0           Tonnes   \n",
       "2       2003-04  Whole Year  1261.0    Hectare      1525.0           Tonnes   \n",
       "3       2001-02      Kharif  3100.0    Hectare      5239.0           Tonnes   \n",
       "4       2002-03  Whole Year  3105.0    Hectare      5267.0           Tonnes   \n",
       "...         ...         ...     ...        ...         ...              ...   \n",
       "345370  2000-01        Rabi  6310.0    Hectare     15280.0           Tonnes   \n",
       "345371  1997-98        Rabi  1895.0    Hectare      2760.0           Tonnes   \n",
       "345372  1998-99        Rabi  3736.0    Hectare      5530.0           Tonnes   \n",
       "345373  1999-00        Rabi  2752.0    Hectare      6928.0           Tonnes   \n",
       "345374  2000-01        Rabi  2979.0    Hectare      7430.0           Tonnes   \n",
       "\n",
       "           Yield  Producation_area_factor  \n",
       "0       1.643541                 1.643541  \n",
       "1       1.655803                 1.655803  \n",
       "2       1.209358                 1.209358  \n",
       "3       1.690000                 1.690000  \n",
       "4       1.696296                 1.696296  \n",
       "...          ...                      ...  \n",
       "345370  2.421553                 2.421553  \n",
       "345371  1.456464                 1.456464  \n",
       "345372  1.480193                 1.480193  \n",
       "345373  2.517442                 2.517442  \n",
       "345374  2.494126                 2.494126  \n",
       "\n",
       "[339390 rows x 11 columns]"
      ]
     },
     "execution_count": 34,
     "metadata": {},
     "output_type": "execute_result"
    }
   ],
   "source": [
    "# checking newly created column \n",
    "\n",
    "crop_df"
   ]
  },
  {
   "cell_type": "code",
   "execution_count": 35,
   "id": "a6dc85d2",
   "metadata": {},
   "outputs": [
    {
     "data": {
      "text/plain": [
       "(80.0, 4290.0)"
      ]
     },
     "execution_count": 35,
     "metadata": {},
     "output_type": "execute_result"
    }
   ],
   "source": [
    "Q1 = crop_df['Area'].quantile(0.25)\n",
    "Q3 = crop_df['Area'].quantile(0.75)\n",
    "Q1, Q3"
   ]
  },
  {
   "cell_type": "code",
   "execution_count": 36,
   "id": "af8441b4",
   "metadata": {},
   "outputs": [],
   "source": [
    "IQR = Q3 - Q1"
   ]
  },
  {
   "cell_type": "code",
   "execution_count": 37,
   "id": "742c9176",
   "metadata": {},
   "outputs": [
    {
     "data": {
      "text/plain": [
       "(-6235.0, 10605.0)"
      ]
     },
     "execution_count": 37,
     "metadata": {},
     "output_type": "execute_result"
    }
   ],
   "source": [
    "lower_limit = Q1 - 1.5*IQR\n",
    "upper_limit = Q3 + 1.5*IQR\n",
    "lower_limit,upper_limit"
   ]
  },
  {
   "cell_type": "code",
   "execution_count": 38,
   "id": "846a65ae",
   "metadata": {},
   "outputs": [],
   "source": [
    "area_outlier = crop_df[(crop_df['Area'] < lower_limit) | (crop_df['Area'] > upper_limit)]"
   ]
  },
  {
   "cell_type": "code",
   "execution_count": 39,
   "id": "db676b10",
   "metadata": {},
   "outputs": [
    {
     "data": {
      "text/plain": [
       "Rice                 12526\n",
       "Wheat                 7247\n",
       "pulses                6562\n",
       "Maize                 4032\n",
       "Bajra                 3183\n",
       "Gram                  2955\n",
       "Jowar                 2564\n",
       "Rapeseed &Mustard     2266\n",
       "Cotton                2264\n",
       "Groundnut             1994\n",
       "Sugarcane             1857\n",
       "Soyabean              1624\n",
       "Sesamum                874\n",
       "Coconut                818\n",
       "Potato                 603\n",
       "Sunflower              573\n",
       "Guar seed              486\n",
       "Jute                   392\n",
       "Castor seed            384\n",
       "other oilseeds         381\n",
       "Barley                 268\n",
       "Dry chillies           259\n",
       "Other Rabi pulses      242\n",
       "Cashewnut              225\n",
       "Arecanut               223\n",
       "Tobacco                216\n",
       "Other Vegetables       184\n",
       "Safflower              174\n",
       "gram                   170\n",
       "Onion                  168\n",
       "Linseed                142\n",
       "Tapioca                124\n",
       "Other Spices           104\n",
       "Banana                  82\n",
       "Garlic                  68\n",
       "Turmeric                50\n",
       "Other Cereals           39\n",
       "Dry ginger               7\n",
       "Name: Crop, dtype: int64"
      ]
     },
     "execution_count": 39,
     "metadata": {},
     "output_type": "execute_result"
    }
   ],
   "source": [
    "area_outlier['Crop'].value_counts()"
   ]
  },
  {
   "cell_type": "code",
   "execution_count": 40,
   "id": "ecf95074",
   "metadata": {},
   "outputs": [],
   "source": [
    "# Since india very big country for better vislization we will divide states name in four zone (East , West , North ,South) \n",
    "# details of these zones are mentioned below"
   ]
  },
  {
   "cell_type": "code",
   "execution_count": 41,
   "id": "d7672d6c",
   "metadata": {},
   "outputs": [],
   "source": [
    "West_India= ['Maharashtra','Goa','Gujarat','Dadra and Nagar Haveli']\n",
    "East_India= ['Arunachal Pradesh','Assam','Manipur','Meghalaya','Mizoram','Nagaland','Sikkim','Tripura','West Bengal','Bihar','Odisha','Jharkhand' ]\n",
    "North_India=['Jammu and Kashmir ','Himachal Pradesh','Punjab','Uttarakhand','Haryana','Rajasthan','Uttar Pradesh','Chandigarh','Madhya Pradesh','Chhattisgarh']   # Delhi\n",
    "South_India = ['Andhra Pradesh','Karnataka','Kerala','Tamil Nadu','Telangana','Puducherry']"
   ]
  },
  {
   "cell_type": "code",
   "execution_count": 42,
   "id": "52c8cb07",
   "metadata": {},
   "outputs": [],
   "source": [
    "# creating a list for zones\n",
    "zone = []\n",
    "\n",
    "for df in crop_df['State']:\n",
    "    if df in West_India:\n",
    "         zone.append('West India')\n",
    "    elif df in East_India:\n",
    "         zone.append('EastIndia')\n",
    "    elif df in North_India:\n",
    "         zone.append('North India')\n",
    "    elif df in South_India: \n",
    "         zone.append('South India')\n",
    "    else:\n",
    "         zone.append('Union Territory')"
   ]
  },
  {
   "cell_type": "code",
   "execution_count": 43,
   "id": "05b8977e",
   "metadata": {},
   "outputs": [],
   "source": [
    "# creatinh new column \n",
    "crop_df['zone'] = zone"
   ]
  },
  {
   "cell_type": "code",
   "execution_count": 44,
   "id": "4804e9c8",
   "metadata": {},
   "outputs": [
    {
     "data": {
      "text/html": [
       "<div>\n",
       "<style scoped>\n",
       "    .dataframe tbody tr th:only-of-type {\n",
       "        vertical-align: middle;\n",
       "    }\n",
       "\n",
       "    .dataframe tbody tr th {\n",
       "        vertical-align: top;\n",
       "    }\n",
       "\n",
       "    .dataframe thead th {\n",
       "        text-align: right;\n",
       "    }\n",
       "</style>\n",
       "<table border=\"1\" class=\"dataframe\">\n",
       "  <thead>\n",
       "    <tr style=\"text-align: right;\">\n",
       "      <th></th>\n",
       "      <th>State</th>\n",
       "      <th>District</th>\n",
       "      <th>Crop</th>\n",
       "      <th>Year</th>\n",
       "      <th>Season</th>\n",
       "      <th>Area</th>\n",
       "      <th>Area Units</th>\n",
       "      <th>Production</th>\n",
       "      <th>Production Units</th>\n",
       "      <th>Yield</th>\n",
       "      <th>Producation_area_factor</th>\n",
       "      <th>zone</th>\n",
       "    </tr>\n",
       "  </thead>\n",
       "  <tbody>\n",
       "    <tr>\n",
       "      <th>0</th>\n",
       "      <td>Andaman and Nicobar Islands</td>\n",
       "      <td>NICOBARS</td>\n",
       "      <td>Arecanut</td>\n",
       "      <td>2001-02</td>\n",
       "      <td>Kharif</td>\n",
       "      <td>1254.0</td>\n",
       "      <td>Hectare</td>\n",
       "      <td>2061.0</td>\n",
       "      <td>Tonnes</td>\n",
       "      <td>1.643541</td>\n",
       "      <td>1.643541</td>\n",
       "      <td>Union Territory</td>\n",
       "    </tr>\n",
       "    <tr>\n",
       "      <th>1</th>\n",
       "      <td>Andaman and Nicobar Islands</td>\n",
       "      <td>NICOBARS</td>\n",
       "      <td>Arecanut</td>\n",
       "      <td>2002-03</td>\n",
       "      <td>Whole Year</td>\n",
       "      <td>1258.0</td>\n",
       "      <td>Hectare</td>\n",
       "      <td>2083.0</td>\n",
       "      <td>Tonnes</td>\n",
       "      <td>1.655803</td>\n",
       "      <td>1.655803</td>\n",
       "      <td>Union Territory</td>\n",
       "    </tr>\n",
       "    <tr>\n",
       "      <th>2</th>\n",
       "      <td>Andaman and Nicobar Islands</td>\n",
       "      <td>NICOBARS</td>\n",
       "      <td>Arecanut</td>\n",
       "      <td>2003-04</td>\n",
       "      <td>Whole Year</td>\n",
       "      <td>1261.0</td>\n",
       "      <td>Hectare</td>\n",
       "      <td>1525.0</td>\n",
       "      <td>Tonnes</td>\n",
       "      <td>1.209358</td>\n",
       "      <td>1.209358</td>\n",
       "      <td>Union Territory</td>\n",
       "    </tr>\n",
       "    <tr>\n",
       "      <th>3</th>\n",
       "      <td>Andaman and Nicobar Islands</td>\n",
       "      <td>NORTH AND MIDDLE ANDAMAN</td>\n",
       "      <td>Arecanut</td>\n",
       "      <td>2001-02</td>\n",
       "      <td>Kharif</td>\n",
       "      <td>3100.0</td>\n",
       "      <td>Hectare</td>\n",
       "      <td>5239.0</td>\n",
       "      <td>Tonnes</td>\n",
       "      <td>1.690000</td>\n",
       "      <td>1.690000</td>\n",
       "      <td>Union Territory</td>\n",
       "    </tr>\n",
       "    <tr>\n",
       "      <th>4</th>\n",
       "      <td>Andaman and Nicobar Islands</td>\n",
       "      <td>SOUTH ANDAMANS</td>\n",
       "      <td>Arecanut</td>\n",
       "      <td>2002-03</td>\n",
       "      <td>Whole Year</td>\n",
       "      <td>3105.0</td>\n",
       "      <td>Hectare</td>\n",
       "      <td>5267.0</td>\n",
       "      <td>Tonnes</td>\n",
       "      <td>1.696296</td>\n",
       "      <td>1.696296</td>\n",
       "      <td>Union Territory</td>\n",
       "    </tr>\n",
       "  </tbody>\n",
       "</table>\n",
       "</div>"
      ],
      "text/plain": [
       "                         State                  District      Crop     Year  \\\n",
       "0  Andaman and Nicobar Islands                  NICOBARS  Arecanut  2001-02   \n",
       "1  Andaman and Nicobar Islands                  NICOBARS  Arecanut  2002-03   \n",
       "2  Andaman and Nicobar Islands                  NICOBARS  Arecanut  2003-04   \n",
       "3  Andaman and Nicobar Islands  NORTH AND MIDDLE ANDAMAN  Arecanut  2001-02   \n",
       "4  Andaman and Nicobar Islands            SOUTH ANDAMANS  Arecanut  2002-03   \n",
       "\n",
       "       Season    Area Area Units  Production Production Units     Yield  \\\n",
       "0      Kharif  1254.0    Hectare      2061.0           Tonnes  1.643541   \n",
       "1  Whole Year  1258.0    Hectare      2083.0           Tonnes  1.655803   \n",
       "2  Whole Year  1261.0    Hectare      1525.0           Tonnes  1.209358   \n",
       "3      Kharif  3100.0    Hectare      5239.0           Tonnes  1.690000   \n",
       "4  Whole Year  3105.0    Hectare      5267.0           Tonnes  1.696296   \n",
       "\n",
       "   Producation_area_factor             zone  \n",
       "0                 1.643541  Union Territory  \n",
       "1                 1.655803  Union Territory  \n",
       "2                 1.209358  Union Territory  \n",
       "3                 1.690000  Union Territory  \n",
       "4                 1.696296  Union Territory  "
      ]
     },
     "execution_count": 44,
     "metadata": {},
     "output_type": "execute_result"
    }
   ],
   "source": [
    "crop_df.head()"
   ]
  },
  {
   "cell_type": "code",
   "execution_count": 45,
   "id": "fcfb88ca",
   "metadata": {},
   "outputs": [
    {
     "data": {
      "text/plain": [
       "North India        130478\n",
       "EastIndia           99502\n",
       "South India         71912\n",
       "West India          32185\n",
       "Union Territory      5313\n",
       "Name: zone, dtype: int64"
      ]
     },
     "execution_count": 45,
     "metadata": {},
     "output_type": "execute_result"
    }
   ],
   "source": [
    "crop_df['zone'].value_counts()"
   ]
  },
  {
   "cell_type": "code",
   "execution_count": 47,
   "id": "d3dd967c",
   "metadata": {},
   "outputs": [
    {
     "data": {
      "text/plain": [
       "2019-20    18988\n",
       "2018-19    18046\n",
       "2017-18    17780\n",
       "2016-17    17260\n",
       "2015-16    16196\n",
       "2013-14    15961\n",
       "2011-12    15827\n",
       "2014-15    15361\n",
       "2012-13    15042\n",
       "2009-10    14949\n",
       "2008-09    14813\n",
       "2010-11    14622\n",
       "2007-08    14411\n",
       "2006-07    14313\n",
       "2003-04    14268\n",
       "2004-05    13867\n",
       "2002-03    13831\n",
       "2005-06    13775\n",
       "2000-01    13337\n",
       "2001-02    13085\n",
       "1999-00    12776\n",
       "1998-99    12014\n",
       "1997-98     8549\n",
       "2020-21      319\n",
       "Name: Year, dtype: int64"
      ]
     },
     "execution_count": 47,
     "metadata": {},
     "output_type": "execute_result"
    }
   ],
   "source": [
    "# checking value counts of year in dataset\n",
    "\n",
    "crop_df['Year'].value_counts()"
   ]
  },
  {
   "cell_type": "code",
   "execution_count": 49,
   "id": "04bd9f23",
   "metadata": {},
   "outputs": [],
   "source": [
    "# sinces the number of rows for year 2015 is very less so it will not give correct visualization for year 2015 \n",
    "# so we decided to remove it from dataset\n",
    "\n",
    "crop_df.drop(crop_df[crop_df['Year'] == 2015].index,inplace=True)"
   ]
  },
  {
   "cell_type": "code",
   "execution_count": 50,
   "id": "fcfe9eae",
   "metadata": {},
   "outputs": [],
   "source": [
    "val=crop_df.groupby('Crop').sum().sort_values(by='Production',ascending = False)['Production'].values\n",
    "lab=crop_df.groupby('Crop').sum().sort_values(by='Production',ascending = False)['Production'].index"
   ]
  },
  {
   "cell_type": "code",
   "execution_count": 51,
   "id": "3c078592",
   "metadata": {},
   "outputs": [
    {
     "data": {
      "image/png": "[encoded data removed]",
      "text/plain": [
       "<Figure size 1000x800 with 1 Axes>"
      ]
     },
     "metadata": {},
     "output_type": "display_data"
    }
   ],
   "source": [
    "# we plotted pie chart of Production of different crops to check the outliers in crops\n",
    "plt.figure(figsize=(10,8))\n",
    "plt.pie(val,labels=lab,autopct='%0.1f%%')\n",
    "plt.show()"
   ]
  },
  {
   "cell_type": "code",
   "execution_count": 52,
   "id": "b2dab9bb",
   "metadata": {},
   "outputs": [],
   "source": [
    "# we have observed that Production of coconut is more than 92% of total Production so we not able to visualize our dataset\n",
    "# so we have decided to visualize coconut seprately\n",
    "\n",
    "coconut_df = crop_df[crop_df['Crop'] == 'Coconut']\n",
    "\n",
    "coconut_df.to_csv('coconut_df.csv')\n",
    "\n",
    "crop_df.drop(crop_df[crop_df['Crop']=='Coconut'].index,inplace=True)"
   ]
  },
  {
   "cell_type": "code",
   "execution_count": 53,
   "id": "68635b4b",
   "metadata": {},
   "outputs": [],
   "source": [
    "# we plotted pie chart between total Production and different types of crops after removing outlier \n",
    "\n",
    "val=crop_df.groupby('Crop').sum().sort_values(by='Production',ascending = False)['Production'].values\n",
    "lab=crop_df.groupby('Crop').sum().sort_values(by='Production',ascending = False)['Production'].index"
   ]
  },
  {
   "cell_type": "code",
   "execution_count": 54,
   "id": "407178bd",
   "metadata": {},
   "outputs": [
    {
     "data": {
      "image/png": "[encoded data removed]",
      "text/plain": [
       "<Figure size 1000x800 with 1 Axes>"
      ]
     },
     "metadata": {},
     "output_type": "display_data"
    }
   ],
   "source": [
    "# we have observed that now our dataset is balance\n",
    "\n",
    "plt.figure(figsize=(10,8))\n",
    "plt.pie(val,labels=lab,autopct='%0.1f%%')\n",
    "plt.show()"
   ]
  },
  {
   "cell_type": "markdown",
   "id": "a00e6635",
   "metadata": {},
   "source": [
    "# Conclusion\n"
   ]
  },
  {
   "cell_type": "code",
   "execution_count": 56,
   "id": "f138d687",
   "metadata": {},
   "outputs": [],
   "source": [
    "# Since we have found out that number of outliers are almost approx 20% and 46000k in numbers so we can not remove these outliers\n",
    "# to avoide loss of information and producation also depends types soil and area,availability of water to farmer\n",
    "# so we dont have much information about these other factors so we cant not remove outliers on basis of Producation_area_factor  \n",
    "# Producation_area_factor can not be same for all crops sinces this factors is hihh for coconut and very less for total_foodgrain\n",
    "# so we cant not compare both on one scale\n",
    "# we have observed that Production of coconut is more than 92% of total Production so we not able to visualize our dataset\n",
    "# so we have decided to consider coconut as an outlier and we have removed it from dataset"
   ]
  },
  {
   "cell_type": "code",
   "execution_count": null,
   "id": "54d8a9be",
   "metadata": {},
   "outputs": [],
   "source": []
  }
 ],
 "metadata": {
  "kernelspec": {
   "display_name": "Python 3 (ipykernel)",
   "language": "python",
   "name": "python3"
  },
  "language_info": {
   "codemirror_mode": {
    "name": "ipython",
    "version": 3
   },
   "file_extension": ".py",
   "mimetype": "text/x-python",
   "name": "python",
   "nbconvert_exporter": "python",
   "pygments_lexer": "ipython3",
   "version": "3.10.9"
  }
 },
 "nbformat": 4,
 "nbformat_minor": 5
}
